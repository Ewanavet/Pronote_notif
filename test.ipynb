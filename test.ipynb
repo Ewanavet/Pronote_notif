{
 "cells": [
  {
   "cell_type": "code",
   "execution_count": 5,
   "metadata": {},
   "outputs": [],
   "source": [
    "import pronotepy\n",
    "from pronotepy.ent import l_normandie\n",
    "from config_token import id_ent\n",
    "import datetime"
   ]
  },
  {
   "cell_type": "code",
   "execution_count": 4,
   "metadata": {},
   "outputs": [],
   "source": [
    "client = pronotepy.Client(\n",
    "    \"https://0760090k.index-education.net/pronote/eleve.html?identifiant=eZGp6R7F4C8rg4G6\",\n",
    "    username=id_ent[0],\n",
    "    password=id_ent[1],\n",
    "    ent=l_normandie,\n",
    ")  # ent specific\n",
    "if not client.logged_in:\n",
    "    exit(1)  # the client has failed to log in"
   ]
  },
  {
   "cell_type": "code",
   "execution_count": 13,
   "metadata": {},
   "outputs": [
    {
     "name": "stdout",
     "output_type": "stream",
     "text": [
      "2023-10-14\n",
      "ANGLAIS LV1 2023-11-06 :\n",
      " - revoir N4, N5, N6 V4, V5, V6, P3, P4,P5, 02\n",
      "ANGLAIS LV1 2023-10-16 :\n",
      " - évaluation de fin de séquence: revoir tous les documents, leçons et vocabulaire.\n",
      "HISTOIRE-GEOGRAPHIE 2023-10-16 :\n",
      " - Réviser le chap. G1 pour lundi 16 octobre\n",
      "NUMERIQUE SC.INFORM. 2023-10-19 :\n",
      " - Reprendre le programme de détermination du jour de la semaine en respectant les bonnes pratiques de programmation\n",
      "ANGLAIS LV1 2023-11-06 :\n",
      " - évaluation de vocabulaire orale à la rentrée. savoir le vocabulaire +\"useful phrases\" + le dialogue\n",
      "ALLEMAND LV2 2023-10-16 :\n",
      " - Terminer le projet\n"
     ]
    }
   ],
   "source": [
    "\n",
    "homeworks = client.homework(datetime.date.today())\n",
    "print(datetime.date.today())\n",
    "for homework in homeworks:\n",
    "    print(homework.subject.name, homework.date, \":\")\n",
    "    print(\" -\",homework.description)"
   ]
  },
  {
   "cell_type": "code",
   "execution_count": null,
   "metadata": {},
   "outputs": [],
   "source": [
    "# print all the grades the user had in this school year\n",
    "for period in client.periods:\n",
    "    # Iterate over all the periods the user has. This includes semesters and trimesters.\n",
    "\n",
    "    for grade in period.grades: # the grades property returns a list of pronotepy.Grade\n",
    "        print(grade.grade) # This prints the actual grade. Could be a number or for example \"Absent\" (always a string)"
   ]
  },
  {
   "cell_type": "code",
   "execution_count": 18,
   "metadata": {},
   "outputs": [
    {
     "name": "stdout",
     "output_type": "stream",
     "text": [
      "17/20 MATHEMATIQUES 14,55\n",
      "14/20 HISTOIRE-GEOGRAPHIE 12,95\n",
      "9/18 NUMERIQUE SC.INFORM. 11,99\n",
      "10,5/20 MATHEMATIQUES 15,55\n",
      "8/20 MATHEMATIQUES 11,24\n",
      "10/10 ANGLAIS LV1 7,58\n",
      "20/20 ENS SC SVT 18,79\n",
      "15,5/20 PHYSIQUE-CHIMIE 14,77\n",
      "16,5/17 ANGLAIS LV1 12,77\n",
      "19,5/20 MATHEMATIQUES 17,92\n",
      "17,5/20 MATHEMATIQUES 17,77\n",
      "7/10 ALLEMAND LV2 7,57\n"
     ]
    }
   ],
   "source": [
    "# print only the grades from the current period\n",
    "for grade in client.current_period.grades:\n",
    "    print(str(grade.grade) + \"/\" + str(grade.out_of), grade.subject.name, grade.average)"
   ]
  }
 ],
 "metadata": {
  "kernelspec": {
   "display_name": "Python 3",
   "language": "python",
   "name": "python3"
  },
  "language_info": {
   "codemirror_mode": {
    "name": "ipython",
    "version": 3
   },
   "file_extension": ".py",
   "mimetype": "text/x-python",
   "name": "python",
   "nbconvert_exporter": "python",
   "pygments_lexer": "ipython3",
   "version": "3.11.6"
  },
  "orig_nbformat": 4
 },
 "nbformat": 4,
 "nbformat_minor": 2
}
