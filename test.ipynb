{
 "cells": [
  {
   "cell_type": "code",
   "execution_count": 33,
   "metadata": {},
   "outputs": [],
   "source": [
    "import pronotepy\n",
    "from pronotepy.ent import l_normandie\n",
    "from config_token import id_ent\n",
    "import datetime\n",
    "import pandas as pd"
   ]
  },
  {
   "cell_type": "code",
   "execution_count": 2,
   "metadata": {},
   "outputs": [],
   "source": [
    "client = pronotepy.Client(\n",
    "    \"https://0760090k.index-education.net/pronote/eleve.html?identifiant=eZGp6R7F4C8rg4G6\",\n",
    "    username=id_ent[0],\n",
    "    password=id_ent[1],\n",
    "    ent=l_normandie,\n",
    ")  # ent specific\n",
    "if not client.logged_in:\n",
    "    exit(1)  # the client has failed to log in"
   ]
  },
  {
   "cell_type": "code",
   "execution_count": 3,
   "metadata": {},
   "outputs": [
    {
     "name": "stdout",
     "output_type": "stream",
     "text": [
      "2023-10-30\n",
      "ANGLAIS LV1 2023-11-06 :\n",
      " - revoir N4, N5, N6 V4, V5, V6, P3, P4,P5, 02\n",
      "PHYSIQUE-CHIMIE 2023-11-07 :\n",
      " - DS électricité et quantité de matière (refaire les exercices, relire les TP et apprendre les relations de ceux-ci).\n",
      "ENS SC PHYS 2023-11-06 :\n",
      " - DS Chapitre 1 : éléments chimiques, radioactivité, fission, fusion, datation au carbone 14\n",
      "ANGLAIS LV1 2023-11-06 :\n",
      " - évaluation de vocabulaire orale à la rentrée. savoir le vocabulaire +\"useful phrases\" + le dialogue\n",
      "NUMERIQUE SC.INFORM. 2023-11-09 :\n",
      " - Revoir tout ce qui a été vu en Python pour une épreuve de pratique  (le mini-projet aidera) + faire le mini-projet\n",
      "ANGLAIS LV1 2023-11-06 :\n",
      " - Voyage au Royaume-Uni dans la région de Chester (Chester, Liverpool, Birmingham) du 12 au 17 février.\n",
      "HISTOIRE-GEOGRAPHIE 2023-11-06 :\n",
      " - Leçon et apporter le livre de géographie pour lundi 6 novembre\n",
      "ENS SC SVT 2023-11-10 :\n",
      " - Finir le tableau de l'activité 3\n",
      "ALLEMAND LV2 2023-11-09 :\n",
      " - Rédiger un bref paragraphe sur ses habitudes numériques en utilisant 5 adverbes de temps différents et en s’inspirant des documents p. 56.\n",
      "PHYSIQUE-CHIMIE 2023-11-07 :\n",
      " - Compléter si nécessaire le Tp avec le corrigé et apprendre les définitions.\n",
      "PHYSIQUE-CHIMIE 2023-11-10 :\n",
      " - Tp de physique : ne pas apporter la blouse.\n"
     ]
    }
   ],
   "source": [
    "\n",
    "homeworks = client.homework(datetime.date.today())\n",
    "print(datetime.date.today())\n",
    "for homework in homeworks:\n",
    "    print(homework.subject.name, homework.date, \":\")\n",
    "    print(\" -\",homework.description)"
   ]
  },
  {
   "cell_type": "code",
   "execution_count": 90,
   "metadata": {},
   "outputs": [],
   "source": [
    "def get_gardes_current_period():\n",
    "    grade_list = []\n",
    "    for grade in client.current_period.grades:\n",
    "        grade_list.append(grade)\n",
    "    return grade_list\n",
    "\n",
    "def equivalent_name(name):\n",
    "    long_name = [\n",
    "        \"ANGLAIS LV1\",\n",
    "        \"ALLEMAND LV2\",\n",
    "        \"FRANCAIS\",\n",
    "        \"HISTOIRE-GEOGRAPHIE\",\n",
    "        \"ENS. MORAL & CIVIQUE\",\n",
    "        \"ED.PHYSIQUE & SPORT.\",\n",
    "        \"ENSEIGN.SCIENTIFIQUE > ENS SC PHYSIQUE\",\n",
    "        \"ENSEIGN.SCIENTIFIQUE > ENS SC SVT\",\n",
    "        \"NUMERIQUE SC.INFORM.\",\n",
    "        \"PHYSIQUE-CHIMIE\",\n",
    "        \"CINEMA-AUDIOVISUEL\",\n",
    "        \"MATHEMATIQUES\",\n",
    "        \"MATHS SPECIFIQUES\",\n",
    "    ]\n",
    "    short_name = [\n",
    "        \"ANGLAIS\",\n",
    "        \"ALLEMAND\",\n",
    "        \"FRANCAIS\",\n",
    "        \"HISTOIRE-GEO\",\n",
    "        \"EMC\",\n",
    "        \"EPS\",\n",
    "        \"ENS PHYSIQUE\",\n",
    "        \"ENS SVT\",\n",
    "        \"NSI\",\n",
    "        \"PHYSIQUE-CHIMIE\",\n",
    "        \"CAV\",\n",
    "        \"MATHS\",\n",
    "        \"MATHS OPTION\",\n",
    "    ]\n",
    "    i = 0\n",
    "    while name != long_name[i] and i <= len(long_name):\n",
    "        i += 1\n",
    "    return short_name[i]\n",
    "\n",
    "def creat_df(grades):\n",
    "    # create dataframe with new grade(s)\n",
    "    added_old_grades = pd.DataFrame(\n",
    "        [[grade.date,equivalent_name(grade.subject.name),grade.coefficient,grade.grade.replace(\",\", \".\"),grade.out_of.replace(\",\", \".\"),grade.comment,grade.average.replace(\",\", \".\"),grade.id] for grade in grades], columns=[\"date\", \"sujet\", \"coef\", \"note\", \"sur\", \"comment\", \"class\", \"id\"]\n",
    "    )\n",
    "    return added_old_grades"
   ]
  },
  {
   "cell_type": "code",
   "execution_count": 101,
   "metadata": {},
   "outputs": [
    {
     "ename": "ValueError",
     "evalue": "The truth value of a Series is ambiguous. Use a.empty, a.bool(), a.item(), a.any() or a.all().",
     "output_type": "error",
     "traceback": [
      "\u001b[1;31m---------------------------------------------------------------------------\u001b[0m",
      "\u001b[1;31mValueError\u001b[0m                                Traceback (most recent call last)",
      "\u001b[1;32m~\\AppData\\Local\\Temp\\ipykernel_10736\\2269668646.py\u001b[0m in \u001b[0;36m?\u001b[1;34m()\u001b[0m\n\u001b[0;32m      2\u001b[0m \u001b[1;33m\u001b[0m\u001b[0m\n\u001b[0;32m      3\u001b[0m \u001b[0mdf1\u001b[0m \u001b[1;33m=\u001b[0m \u001b[0mcreat_df\u001b[0m\u001b[1;33m(\u001b[0m\u001b[0mlist_gardes\u001b[0m\u001b[1;33m[\u001b[0m\u001b[1;36m2\u001b[0m\u001b[1;33m:\u001b[0m\u001b[1;33m]\u001b[0m\u001b[1;33m)\u001b[0m\u001b[1;33m\u001b[0m\u001b[1;33m\u001b[0m\u001b[0m\n\u001b[0;32m      4\u001b[0m \u001b[0mdf2\u001b[0m \u001b[1;33m=\u001b[0m \u001b[0mcreat_df\u001b[0m\u001b[1;33m(\u001b[0m\u001b[0mlist_gardes\u001b[0m\u001b[1;33m)\u001b[0m\u001b[1;33m\u001b[0m\u001b[1;33m\u001b[0m\u001b[0m\n\u001b[0;32m      5\u001b[0m \u001b[1;33m\u001b[0m\u001b[0m\n\u001b[1;32m----> 6\u001b[1;33m \u001b[0mfind_new_grade\u001b[0m\u001b[1;33m(\u001b[0m\u001b[0mdf1\u001b[0m\u001b[1;33m,\u001b[0m \u001b[0mdf2\u001b[0m\u001b[1;33m)\u001b[0m\u001b[1;33m\u001b[0m\u001b[1;33m\u001b[0m\u001b[0m\n\u001b[0m",
      "\u001b[1;32m~\\AppData\\Local\\Temp\\ipykernel_10736\\3848665961.py\u001b[0m in \u001b[0;36m?\u001b[1;34m(df, df2)\u001b[0m\n\u001b[0;32m      6\u001b[0m     \u001b[1;32mfor\u001b[0m \u001b[0mi\u001b[0m \u001b[1;32min\u001b[0m \u001b[0mrange\u001b[0m\u001b[1;33m(\u001b[0m\u001b[0mdf2\u001b[0m\u001b[1;33m.\u001b[0m\u001b[0mshape\u001b[0m\u001b[1;33m[\u001b[0m\u001b[1;36m0\u001b[0m\u001b[1;33m]\u001b[0m\u001b[1;33m)\u001b[0m\u001b[1;33m:\u001b[0m\u001b[1;33m\u001b[0m\u001b[1;33m\u001b[0m\u001b[0m\n\u001b[0;32m      7\u001b[0m         \u001b[0mrow\u001b[0m \u001b[1;33m=\u001b[0m \u001b[0mdf2\u001b[0m\u001b[1;33m.\u001b[0m\u001b[0miloc\u001b[0m\u001b[1;33m[\u001b[0m\u001b[0mi\u001b[0m\u001b[1;33m]\u001b[0m\u001b[1;33m\u001b[0m\u001b[1;33m\u001b[0m\u001b[0m\n\u001b[0;32m      8\u001b[0m         \u001b[0mis_in\u001b[0m \u001b[1;33m=\u001b[0m \u001b[1;32mTrue\u001b[0m\u001b[1;33m\u001b[0m\u001b[1;33m\u001b[0m\u001b[0m\n\u001b[0;32m      9\u001b[0m         \u001b[1;32mfor\u001b[0m \u001b[0mj\u001b[0m \u001b[1;32min\u001b[0m \u001b[0mrange\u001b[0m\u001b[1;33m(\u001b[0m\u001b[0mdf\u001b[0m\u001b[1;33m.\u001b[0m\u001b[0mshape\u001b[0m\u001b[1;33m[\u001b[0m\u001b[1;36m0\u001b[0m\u001b[1;33m]\u001b[0m\u001b[1;33m)\u001b[0m\u001b[1;33m:\u001b[0m\u001b[1;33m\u001b[0m\u001b[1;33m\u001b[0m\u001b[0m\n\u001b[1;32m---> 10\u001b[1;33m             \u001b[1;32mif\u001b[0m \u001b[0mrow\u001b[0m \u001b[1;33m!=\u001b[0m \u001b[0mdf\u001b[0m\u001b[1;33m.\u001b[0m\u001b[0miloc\u001b[0m\u001b[1;33m[\u001b[0m\u001b[0mj\u001b[0m\u001b[1;33m]\u001b[0m\u001b[1;33m:\u001b[0m\u001b[1;33m\u001b[0m\u001b[1;33m\u001b[0m\u001b[0m\n\u001b[0m\u001b[0;32m     11\u001b[0m                 \u001b[0mis_in\u001b[0m \u001b[1;33m=\u001b[0m \u001b[1;32mFalse\u001b[0m\u001b[1;33m\u001b[0m\u001b[1;33m\u001b[0m\u001b[0m\n\u001b[0;32m     12\u001b[0m         \u001b[1;32mif\u001b[0m \u001b[0mis_in\u001b[0m \u001b[1;33m==\u001b[0m \u001b[1;32mFalse\u001b[0m\u001b[1;33m:\u001b[0m\u001b[1;33m\u001b[0m\u001b[1;33m\u001b[0m\u001b[0m\n\u001b[0;32m     13\u001b[0m             \u001b[0mnew_grades\u001b[0m\u001b[1;33m.\u001b[0m\u001b[0mappend\u001b[0m\u001b[1;33m(\u001b[0m\u001b[0mrow\u001b[0m\u001b[1;33m)\u001b[0m\u001b[1;33m\u001b[0m\u001b[1;33m\u001b[0m\u001b[0m\n",
      "\u001b[1;32m~\\AppData\\Local\\Packages\\PythonSoftwareFoundation.Python.3.11_qbz5n2kfra8p0\\LocalCache\\local-packages\\Python311\\site-packages\\pandas\\core\\generic.py\u001b[0m in \u001b[0;36m?\u001b[1;34m(self)\u001b[0m\n\u001b[0;32m   1464\u001b[0m     \u001b[1;33m@\u001b[0m\u001b[0mfinal\u001b[0m\u001b[1;33m\u001b[0m\u001b[1;33m\u001b[0m\u001b[0m\n\u001b[0;32m   1465\u001b[0m     \u001b[1;32mdef\u001b[0m \u001b[0m__nonzero__\u001b[0m\u001b[1;33m(\u001b[0m\u001b[0mself\u001b[0m\u001b[1;33m)\u001b[0m \u001b[1;33m->\u001b[0m \u001b[0mNoReturn\u001b[0m\u001b[1;33m:\u001b[0m\u001b[1;33m\u001b[0m\u001b[1;33m\u001b[0m\u001b[0m\n\u001b[1;32m-> 1466\u001b[1;33m         raise ValueError(\n\u001b[0m\u001b[0;32m   1467\u001b[0m             \u001b[1;34mf\"The truth value of a {type(self).__name__} is ambiguous. \"\u001b[0m\u001b[1;33m\u001b[0m\u001b[1;33m\u001b[0m\u001b[0m\n\u001b[0;32m   1468\u001b[0m             \u001b[1;34m\"Use a.empty, a.bool(), a.item(), a.any() or a.all().\"\u001b[0m\u001b[1;33m\u001b[0m\u001b[1;33m\u001b[0m\u001b[0m\n\u001b[0;32m   1469\u001b[0m         )\n",
      "\u001b[1;31mValueError\u001b[0m: The truth value of a Series is ambiguous. Use a.empty, a.bool(), a.item(), a.any() or a.all()."
     ]
    }
   ],
   "source": [
    "list_gardes = get_gardes_current_period()\n",
    "\n",
    "df1 = creat_df(list_gardes[2:])\n",
    "df2 = creat_df(list_gardes)"
   ]
  }
 ],
 "metadata": {
  "kernelspec": {
   "display_name": "Python 3",
   "language": "python",
   "name": "python3"
  },
  "language_info": {
   "codemirror_mode": {
    "name": "ipython",
    "version": 3
   },
   "file_extension": ".py",
   "mimetype": "text/x-python",
   "name": "python",
   "nbconvert_exporter": "python",
   "pygments_lexer": "ipython3",
   "version": "3.11.6"
  },
  "orig_nbformat": 4
 },
 "nbformat": 4,
 "nbformat_minor": 2
}
