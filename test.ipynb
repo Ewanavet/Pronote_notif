{
 "cells": [
  {
   "cell_type": "code",
   "execution_count": 1,
   "metadata": {},
   "outputs": [],
   "source": [
    "import pronotepy\n",
    "from pronotepy.ent import l_normandie\n",
    "from config_token import id_ent\n",
    "import datetime\n",
    "import pandas as pd"
   ]
  },
  {
   "cell_type": "code",
   "execution_count": 2,
   "metadata": {},
   "outputs": [],
   "source": [
    "client = pronotepy.Client(\n",
    "    \"https://0760090k.index-education.net/pronote/eleve.html?identifiant=eZGp6R7F4C8rg4G6\",\n",
    "    username=id_ent[0],\n",
    "    password=id_ent[1],\n",
    "    ent=l_normandie,\n",
    ")  # ent specific\n",
    "if not client.logged_in:\n",
    "    exit(1)  # the client has failed to log in"
   ]
  },
  {
   "cell_type": "code",
   "execution_count": 3,
   "metadata": {},
   "outputs": [
    {
     "name": "stdout",
     "output_type": "stream",
     "text": [
      "2023-10-31\n",
      "ANGLAIS LV1 2023-11-06 :\n",
      " - revoir N4, N5, N6 V4, V5, V6, P3, P4,P5, 02\n",
      "PHYSIQUE-CHIMIE 2023-11-07 :\n",
      " - DS électricité et quantité de matière (refaire les exercices, relire les TP et apprendre les relations de ceux-ci).\n",
      "ENS SC PHYS 2023-11-06 :\n",
      " - DS Chapitre 1 : éléments chimiques, radioactivité, fission, fusion, datation au carbone 14\n",
      "ANGLAIS LV1 2023-11-06 :\n",
      " - évaluation de vocabulaire orale à la rentrée. savoir le vocabulaire +\"useful phrases\" + le dialogue\n",
      "NUMERIQUE SC.INFORM. 2023-11-09 :\n",
      " - Revoir tout ce qui a été vu en Python pour une épreuve de pratique  (le mini-projet aidera) + faire le mini-projet\n",
      "ANGLAIS LV1 2023-11-06 :\n",
      " - Voyage au Royaume-Uni dans la région de Chester (Chester, Liverpool, Birmingham) du 12 au 17 février.\n",
      "HISTOIRE-GEOGRAPHIE 2023-11-06 :\n",
      " - Leçon et apporter le livre de géographie pour lundi 6 novembre\n",
      "ENS SC SVT 2023-11-10 :\n",
      " - Finir le tableau de l'activité 3\n",
      "ALLEMAND LV2 2023-11-09 :\n",
      " - Rédiger un bref paragraphe sur ses habitudes numériques en utilisant 5 adverbes de temps différents et en s’inspirant des documents p. 56.\n",
      "PHYSIQUE-CHIMIE 2023-11-07 :\n",
      " - Compléter si nécessaire le Tp avec le corrigé et apprendre les définitions.\n",
      "PHYSIQUE-CHIMIE 2023-11-10 :\n",
      " - Tp de physique : ne pas apporter la blouse.\n"
     ]
    }
   ],
   "source": [
    "\n",
    "homeworks = client.homework(datetime.date.today())\n",
    "print(datetime.date.today())\n",
    "for homework in homeworks:\n",
    "    print(homework.subject.name, homework.date, \":\")\n",
    "    print(\" -\",homework.description)"
   ]
  },
  {
   "cell_type": "code",
   "execution_count": 4,
   "metadata": {},
   "outputs": [],
   "source": [
    "def get_gardes_current_period():\n",
    "    grade_list = []\n",
    "    for grade in client.current_period.grades:\n",
    "        grade_list.append(grade)\n",
    "    return grade_list\n",
    "\n",
    "def equivalent_name(name):\n",
    "    long_name = [\n",
    "        \"ANGLAIS LV1\",\n",
    "        \"ALLEMAND LV2\",\n",
    "        \"FRANCAIS\",\n",
    "        \"HISTOIRE-GEOGRAPHIE\",\n",
    "        \"ENS. MORAL & CIVIQUE\",\n",
    "        \"ED.PHYSIQUE & SPORT.\",\n",
    "        \"ENSEIGN.SCIENTIFIQUE > ENS SC PHYSIQUE\",\n",
    "        \"ENSEIGN.SCIENTIFIQUE > ENS SC SVT\",\n",
    "        \"NUMERIQUE SC.INFORM.\",\n",
    "        \"PHYSIQUE-CHIMIE\",\n",
    "        \"CINEMA-AUDIOVISUEL\",\n",
    "        \"MATHEMATIQUES\",\n",
    "        \"MATHS SPECIFIQUES\",\n",
    "    ]\n",
    "    short_name = [\n",
    "        \"ANGLAIS\",\n",
    "        \"ALLEMAND\",\n",
    "        \"FRANCAIS\",\n",
    "        \"HISTOIRE-GEO\",\n",
    "        \"EMC\",\n",
    "        \"EPS\",\n",
    "        \"ENS PHYSIQUE\",\n",
    "        \"ENS SVT\",\n",
    "        \"NSI\",\n",
    "        \"PHYSIQUE-CHIMIE\",\n",
    "        \"CAV\",\n",
    "        \"MATHS\",\n",
    "        \"MATHS OPTION\",\n",
    "    ]\n",
    "    i = 0\n",
    "    while name != long_name[i] and i <= len(long_name):\n",
    "        i += 1\n",
    "    return short_name[i]\n",
    "\n",
    "def creat_df(grades):\n",
    "    # create dataframe with new grade(s)\n",
    "    added_old_grades = pd.DataFrame(\n",
    "        [[grade.date,equivalent_name(grade.subject.name),grade.coefficient,grade.grade.replace(\",\", \".\"),grade.out_of.replace(\",\", \".\"),grade.comment,grade.average.replace(\",\", \".\"),grade.id] for grade in grades], columns=[\"date\", \"sujet\", \"coef\", \"note\", \"sur\", \"comment\", \"class\", \"id\"]\n",
    "    )\n",
    "    return added_old_grades\n",
    "\n",
    "def find_new_grades(df1,df2):\n",
    "    added_grades = pd.DataFrame(None, columns=[\"date\", \"sujet\", \"coef\", \"note\", \"sur\", \"comment\", \"class\", \"id\"])\n",
    "    for i in range(df2.shape[0]):\n",
    "        if df2[\"id\"].iloc[i] not in df1['id'].values:\n",
    "            added_grades.loc[i] = df2.iloc[i]\n",
    "    return added_grades"
   ]
  },
  {
   "cell_type": "code",
   "execution_count": 28,
   "metadata": {},
   "outputs": [],
   "source": [
    "list_gardes = get_gardes_current_period()\n",
    "\n",
    "df1 = creat_df(list_gardes[:-2])\n",
    "df2 = creat_df(list_gardes)"
   ]
  },
  {
   "cell_type": "code",
   "execution_count": 29,
   "metadata": {},
   "outputs": [
    {
     "data": {
      "text/html": [
       "<div>\n",
       "<style scoped>\n",
       "    .dataframe tbody tr th:only-of-type {\n",
       "        vertical-align: middle;\n",
       "    }\n",
       "\n",
       "    .dataframe tbody tr th {\n",
       "        vertical-align: top;\n",
       "    }\n",
       "\n",
       "    .dataframe thead th {\n",
       "        text-align: right;\n",
       "    }\n",
       "</style>\n",
       "<table border=\"1\" class=\"dataframe\">\n",
       "  <thead>\n",
       "    <tr style=\"text-align: right;\">\n",
       "      <th></th>\n",
       "      <th>date</th>\n",
       "      <th>sujet</th>\n",
       "      <th>coef</th>\n",
       "      <th>note</th>\n",
       "      <th>sur</th>\n",
       "      <th>comment</th>\n",
       "      <th>class</th>\n",
       "      <th>id</th>\n",
       "    </tr>\n",
       "  </thead>\n",
       "  <tbody>\n",
       "    <tr>\n",
       "      <th>13</th>\n",
       "      <td>2023-10-19</td>\n",
       "      <td>ENS SVT</td>\n",
       "      <td>1</td>\n",
       "      <td>9</td>\n",
       "      <td>10</td>\n",
       "      <td>DS1 élément chimique</td>\n",
       "      <td>8.23</td>\n",
       "      <td>34#pymdrqgx_pTrsQOUk_IA94p3z-vO4sfdf7k67H7LBFo</td>\n",
       "    </tr>\n",
       "    <tr>\n",
       "      <th>14</th>\n",
       "      <td>2023-10-20</td>\n",
       "      <td>HISTOIRE-GEO</td>\n",
       "      <td>1</td>\n",
       "      <td>10</td>\n",
       "      <td>20</td>\n",
       "      <td></td>\n",
       "      <td>12.78</td>\n",
       "      <td>34#dLkS2M4UQ2LNWF6vnKwyW1nOSRoy9kBoGNiiRwUp7Ic</td>\n",
       "    </tr>\n",
       "  </tbody>\n",
       "</table>\n",
       "</div>"
      ],
      "text/plain": [
       "          date         sujet coef note sur               comment  class  \\\n",
       "13  2023-10-19       ENS SVT    1    9  10  DS1 élément chimique   8.23   \n",
       "14  2023-10-20  HISTOIRE-GEO    1   10  20                        12.78   \n",
       "\n",
       "                                                id  \n",
       "13  34#pymdrqgx_pTrsQOUk_IA94p3z-vO4sfdf7k67H7LBFo  \n",
       "14  34#dLkS2M4UQ2LNWF6vnKwyW1nOSRoy9kBoGNiiRwUp7Ic  "
      ]
     },
     "execution_count": 29,
     "metadata": {},
     "output_type": "execute_result"
    }
   ],
   "source": []
  },
  {
   "cell_type": "code",
   "execution_count": 10,
   "metadata": {},
   "outputs": [
    {
     "data": {
      "text/plain": [
       "array([[datetime.date(2023, 9, 13), 'MATHS', '0.5', '17', '20', '',\n",
       "        '14.55', '34#0zaa2FN73s6BlDLxXy7wDRFQ7Uc_lUy8xI-3Vg4yOLE'],\n",
       "       [datetime.date(2023, 9, 25), 'HISTOIRE-GEO', '1', '14', '20', '',\n",
       "        '12.95', '34#e4IuFAN61ShaFvu4Vf2eC-6ES8yPC64qYR0cKB4Eqec'],\n",
       "       [datetime.date(2023, 9, 27), 'NSI', '1', '9', '18',\n",
       "        'Interrogation sur le codage binaire', '11.99',\n",
       "        '34#popm7eBDuoB8NbxMaaOvpwBrEtwG2fUrsoR5PrnWj8k'],\n",
       "       [datetime.date(2023, 9, 19), 'MATHS', '0.5', '10.5', '20', '',\n",
       "        '15.55', '34#ayR7CmTGJAMBHaJjX3sxeHBZJGJtY0sV_I6Mz8ywpzs'],\n",
       "       [datetime.date(2023, 9, 27), 'MATHS', '1', '8', '20', '', '11.24',\n",
       "        '34#Timc6jR4qyuBQugPBDq978l4LfZoBfE2DIA3yxKt8cA'],\n",
       "       [datetime.date(2023, 9, 28), 'ANGLAIS', '1', '10', '10', '',\n",
       "        '7.58', '34#We0cNamOHI8IKvu_kGoCBUrIRykfeaDqojbk8T1R_aY'],\n",
       "       [datetime.date(2023, 10, 6), 'ENS SVT', '0.25', '20', '20',\n",
       "        'oral activité 2 - radioactivité', '18.79',\n",
       "        '34#rFN6JdpRraXtB76Tk3kMsVYHDiI2XrB0azHFiF-NNlU'],\n",
       "       [datetime.date(2023, 10, 3), 'PHYSIQUE-CHIMIE', '1', '15.75',\n",
       "        '20', '', '14.91',\n",
       "        '34#NmVygtNLfMhKnFwfeRG4Qm8qnXjE5EBvOEtXLETI5Cg'],\n",
       "       [datetime.date(2023, 10, 12), 'ANGLAIS', '0.5', '16.5', '17',\n",
       "        'VOC GRAMMAIRE', '12.77',\n",
       "        '34#ycfnrPZCv5NrP9yNzrD6GhFLkyW4wfp-Z5PeKlNxAzw'],\n",
       "       [datetime.date(2023, 10, 4), 'MATHS', '0.5', '19.5', '20', '',\n",
       "        '17.92', '34#aq1VIlAl789y70qvB_AveNgslwR8yIPqEnm966nVP98'],\n",
       "       [datetime.date(2023, 10, 11), 'MATHS', '0.5', '17.5', '20', '',\n",
       "        '17.77', '34#KXEzMeFd_c0IURwk_Bhl0fQSDr93coq-uK9HUUoyoHw'],\n",
       "       [datetime.date(2023, 10, 12), 'ALLEMAND', '0.5', '7', '10', '',\n",
       "        '7.57', '34#Gs08ARMXNdVsXTiuDxCpUYzSXceUbZCEObKJumVsHSc'],\n",
       "       [datetime.date(2023, 10, 16), 'HISTOIRE-GEO', '1', '6', '10', '',\n",
       "        '7.25', '34#m7-Ty0J5kGE4gpmYAXGxlJBN-ZOsVWgyjALHKg65e-s'],\n",
       "       [datetime.date(2023, 10, 19), 'ENS SVT', '1', '9', '10',\n",
       "        'DS1 élément chimique', '8.23',\n",
       "        '34#pymdrqgx_pTrsQOUk_IA94p3z-vO4sfdf7k67H7LBFo'],\n",
       "       [datetime.date(2023, 10, 20), 'HISTOIRE-GEO', '1', '10', '20', '',\n",
       "        '12.78', '34#dLkS2M4UQ2LNWF6vnKwyW1nOSRoy9kBoGNiiRwUp7Ic']],\n",
       "      dtype=object)"
      ]
     },
     "execution_count": 10,
     "metadata": {},
     "output_type": "execute_result"
    }
   ],
   "source": []
  }
 ],
 "metadata": {
  "kernelspec": {
   "display_name": "Python 3",
   "language": "python",
   "name": "python3"
  },
  "language_info": {
   "codemirror_mode": {
    "name": "ipython",
    "version": 3
   },
   "file_extension": ".py",
   "mimetype": "text/x-python",
   "name": "python",
   "nbconvert_exporter": "python",
   "pygments_lexer": "ipython3",
   "version": "3.11.6"
  },
  "orig_nbformat": 4
 },
 "nbformat": 4,
 "nbformat_minor": 2
}
